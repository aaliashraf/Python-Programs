{
 "cells": [
  {
   "cell_type": "markdown",
   "metadata": {},
   "source": [
    "# Greedy Algorithms"
   ]
  },
  {
   "cell_type": "markdown",
   "metadata": {},
   "source": [
    "## Problem 1: Find Minimum Absolute Difference of Adjacent Elements In An Array.\n",
    "\n",
    "    Given an array of elements find the minimum absolute difference\n",
    "    between adjacent elements in an array.\n",
    "\n",
    "    Example:\n",
    "        Input : arr[] = {10, 12, 13, 15, 10}\n",
    "\n",
    "        Output : 0\n",
    "        Explanation: |10 - 10| = 0 which is the\n",
    "        minimum possible.\n",
    "\n",
    "        Function Description\n",
    "\n",
    "        Complete the function findAbsMin with following details:\n",
    "\n",
    "        findAbsMin has the following parameter(s):\n",
    "        int a[n]: the array of elements\n",
    "\n",
    "        Returns\n",
    "        int a': Minimum Absolute Difference\n",
    "\n",
    "\n",
    "    Command/Script to Run Problem 1: ________________ (Fill this in when submitting)"
   ]
  },
  {
   "cell_type": "code",
   "execution_count": 29,
   "metadata": {},
   "outputs": [],
   "source": [
    "def MinDifference(arr):\n",
    "    difference=[]\n",
    "    for i in range(len(arr)):\n",
    "        difference.append(abs(arr[i]-arr[i-1]))\n",
    "    return min(difference)\n",
    "    "
   ]
  },
  {
   "cell_type": "code",
   "execution_count": 31,
   "metadata": {},
   "outputs": [
    {
     "name": "stdout",
     "output_type": "stream",
     "text": [
      "Test 1: 0\n",
      "Test 2: 2\n"
     ]
    }
   ],
   "source": [
    "arr1=[10, 12, 13, 15, 10] \n",
    "arr2=[22,32,34,90,77]\n",
    "print(\"Test 1:\",MinDifference(arr1)) ## [10-10]=0\n",
    "print(\"Test 2:\",MinDifference(arr2))  ## [32-34]=2"
   ]
  }
 ],
 "metadata": {
  "kernelspec": {
   "display_name": "Python 3.7.4 32-bit",
   "language": "python",
   "name": "python37432bitd36c6a90078e485f856bc2560ae48b93"
  },
  "language_info": {
   "codemirror_mode": {
    "name": "ipython",
    "version": 3
   },
   "file_extension": ".py",
   "mimetype": "text/x-python",
   "name": "python",
   "nbconvert_exporter": "python",
   "pygments_lexer": "ipython3",
   "version": "3.7.4"
  }
 },
 "nbformat": 4,
 "nbformat_minor": 4
}
