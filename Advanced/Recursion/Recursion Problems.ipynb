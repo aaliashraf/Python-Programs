{
 "cells": [
  {
   "cell_type": "markdown",
   "metadata": {},
   "source": [
    "# Recursion Problems"
   ]
  },
  {
   "cell_type": "markdown",
   "metadata": {},
   "source": [
    "## Problem 1: Calculate Mean of An Array using Recursion.\n",
    "\n",
    "    Given an array of elements find the mean of the elements\n",
    "    in that array using recursion.\n",
    "\n",
    "    Example:\n",
    "        Input : arr[] = {10, 12, 14, 16, 18}\n",
    "        Output : 14\n",
    "        Function Description\n",
    "\n",
    "        Complete the function calMean with following details:\n",
    "\n",
    "        calMean has the following parameter(s):\n",
    "        int a[n]: the array of elements\n",
    "\n",
    "        Returns\n",
    "        int a': Mean of the elements\n",
    "\n",
    "\n",
    "    Command/Script to Run Problem 1: ________________ (Fill this in when submitting)\n"
   ]
  },
  {
   "cell_type": "code",
   "execution_count": 25,
   "metadata": {},
   "outputs": [],
   "source": [
    "def calMean(arr):\n",
    "    ## return single element\n",
    "    if len(arr)==1:\n",
    "        return arr[0]\n",
    "    ## add first element to remaining elements recursively\n",
    "    else:\n",
    "        return (arr[0]+(len(arr)-1)*calMean(arr[1:]))/len(arr)"
   ]
  },
  {
   "cell_type": "code",
   "execution_count": 27,
   "metadata": {},
   "outputs": [
    {
     "name": "stdout",
     "output_type": "stream",
     "text": [
      "Test 1:  14.0\n",
      "Test 2:  2.4\n"
     ]
    }
   ],
   "source": [
    "arr1=[10, 12, 14, 16, 18]\n",
    "arr2=[2,0,3,1,6]\n",
    "print(\"Test 1: \" ,calMean(arr1))\n",
    "print(\"Test 2: \", calMean(arr2))"
   ]
  }
 ],
 "metadata": {
  "kernelspec": {
   "display_name": "Python 3.7.4 32-bit",
   "language": "python",
   "name": "python37432bitd36c6a90078e485f856bc2560ae48b93"
  },
  "language_info": {
   "codemirror_mode": {
    "name": "ipython",
    "version": 3
   },
   "file_extension": ".py",
   "mimetype": "text/x-python",
   "name": "python",
   "nbconvert_exporter": "python",
   "pygments_lexer": "ipython3",
   "version": "3.7.4"
  }
 },
 "nbformat": 4,
 "nbformat_minor": 4
}
