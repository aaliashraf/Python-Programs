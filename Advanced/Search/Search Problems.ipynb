{
 "cells": [
  {
   "cell_type": "markdown",
   "metadata": {},
   "source": [
    "# Search Problems"
   ]
  },
  {
   "cell_type": "markdown",
   "metadata": {},
   "source": [
    "## Problem 1: Given An Array and a target number Find all the Pairs the difference of which is equal to that target number.\n",
    "\n",
    "    Find all the pairs in an array the difference of which is equal to\n",
    "    the provided target number.\n",
    "\n",
    "    Example:\n",
    "        Input : arr[] = {10, 12, 14, 16, 18}\n",
    "        Input: 20,\n",
    "        Output : [{12,18},{14,16}]\n",
    "        Function Description\n",
    "\n",
    "        Complete the function findPairs with following details:\n",
    "\n",
    "        findPairs has the following parameter(s):\n",
    "        int a[n]: the array of elements\n",
    "        int b: Target Number\n",
    "\n",
    "        Returns\n",
    "        Array<Objects> a': Pairs\n",
    "\n",
    "        Questions:\n",
    "            How do we detect which pairs are identical? i.e. {2,3} and {3,2} are identical.\n",
    "            Write a program to filter the identical pairs.\n",
    "\n",
    "\n",
    "    Command/Script to Run Problem 1: ________________ (Fill this in when submitting)"
   ]
  },
  {
   "cell_type": "code",
   "execution_count": 259,
   "metadata": {},
   "outputs": [],
   "source": [
    "def diffPairs(arr,target):\n",
    "    pairs=[]\n",
    "    for i in range(len(arr)):\n",
    "        for j in range(len(arr)):\n",
    "            if i!=j:\n",
    "                if (abs(arr[i]-arr[j]))==target:\n",
    "                    pairs.append([arr[i],arr[j]])\n",
    "    print(\"All Pairs :\",pairs)\n",
    "    ## Question How do we detect which pairs are identical?\n",
    "    identical=[i for i,j in zip(pairs,pairs) if i==j]\n",
    "    print(\"Identical Pairs\",identical)\n",
    "    return ' '\n",
    "    \n",
    "   \n",
    "    "
   ]
  },
  {
   "cell_type": "code",
   "execution_count": 260,
   "metadata": {},
   "outputs": [
    {
     "name": "stdout",
     "output_type": "stream",
     "text": [
      "All Pairs : [[10, 16], [12, 18], [16, 10], [18, 12]]\n",
      "Identical Pairs [[10, 16], [12, 18], [16, 10], [18, 12]]\n",
      " \n"
     ]
    }
   ],
   "source": [
    "arr1=[10, 12, 14, 16, 18]\n",
    "tar=6\n",
    "print(diffPairs(arr1,tar))"
   ]
  },
  {
   "cell_type": "markdown",
   "metadata": {},
   "source": [
    "## Problem 2: Calculate The Frequency of Numbers in An Array\n",
    "\n",
    "    Given an array of n elements return the array of maps with number keys\n",
    "    mapped to the number of times they appeared in the array.\n",
    "\n",
    "    Example:\n",
    "\n",
    "        Input Array : [1,2,3,4,5,4,3,1]\n",
    "\n",
    "        Output Array: [{1:2},{2:1},{3:2},{4:2},{5:1}]\n",
    "\n",
    "    Questions:\n",
    "\n",
    "        a. Can we use the output Array to calculate mean of the original array?\n",
    "\n",
    "\n",
    "\n",
    "    Command/Script to Run Problem 2: ________________ (Fill this in when submitting)\n"
   ]
  },
  {
   "cell_type": "code",
   "execution_count": 316,
   "metadata": {},
   "outputs": [],
   "source": [
    "def frequencyNo(lists):\n",
    "    avg=[]\n",
    "    frequency={i:lists.count(i) for i in lists}\n",
    "    print(\"Frequency of Numbers :\", frequency)\n",
    "    ## Question to Calculate frequency\n",
    "    for i in frequency:\n",
    "        avg.append(i*frequency[i])\n",
    "    mean=sum(avg)/len(lists)\n",
    "    print(\"Mean from output : \",mean)\n",
    "    return ''"
   ]
  },
  {
   "cell_type": "code",
   "execution_count": 317,
   "metadata": {},
   "outputs": [
    {
     "name": "stdout",
     "output_type": "stream",
     "text": [
      "Frequency of Numbers : {1: 2, 2: 1, 3: 2, 4: 2, 5: 1}\n",
      "Mean from output :  2.875\n",
      "\n"
     ]
    }
   ],
   "source": [
    "fre1=[1,2,3,4,5,4,3,1]\n",
    "print(frequencyNo(fre1))"
   ]
  }
 ],
 "metadata": {
  "kernelspec": {
   "display_name": "Python 3.7.4 32-bit",
   "language": "python",
   "name": "python37432bitd36c6a90078e485f856bc2560ae48b93"
  },
  "language_info": {
   "codemirror_mode": {
    "name": "ipython",
    "version": 3
   },
   "file_extension": ".py",
   "mimetype": "text/x-python",
   "name": "python",
   "nbconvert_exporter": "python",
   "pygments_lexer": "ipython3",
   "version": "3.7.4"
  }
 },
 "nbformat": 4,
 "nbformat_minor": 4
}
