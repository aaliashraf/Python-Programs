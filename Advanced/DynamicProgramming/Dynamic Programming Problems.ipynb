{
 "cells": [
  {
   "cell_type": "markdown",
   "metadata": {},
   "source": [
    "# Dynamic Programming Problems:"
   ]
  },
  {
   "cell_type": "markdown",
   "metadata": {},
   "source": [
    "## Problem 1: Solve Fibonnaci Problem using Memoization.\n",
    "\n",
    "Fibonnaci Formula: f(n) = f(n-1) + f(n-2) if n>2 && f(1) = 1, f(2)=1\n",
    "This problem is self descriptive.\n",
    "You should be able to explain the memoization in comments."
   ]
  },
  {
   "cell_type": "code",
   "execution_count": 83,
   "metadata": {},
   "outputs": [],
   "source": [
    "## Memorization is an optimizing technique that store past calculation instead of repeating calculations.\n",
    "def fib(num):\n",
    "    ## initialize dict cache to store unique calculated value as key value pair\n",
    "    fcache={} \n",
    "    if num in fcache:\n",
    "    ## check if store in cache is num key simple return its value\n",
    "        return fcache[num]\n",
    "    if num<=0:\n",
    "        return 0\n",
    "    if num==1 or num==2:\n",
    "        val=1\n",
    "    elif num>2:\n",
    "    ## store value of rescusive in cache key\n",
    "        val=(fib(num-1)+fib(num-2))\n",
    "    fcache[num]=val\n",
    "    return val\n"
   ]
  },
  {
   "cell_type": "code",
   "execution_count": 90,
   "metadata": {},
   "outputs": [
    {
     "name": "stdout",
     "output_type": "stream",
     "text": [
      "Test 1 :  13\n",
      "Test 2 :  1\n"
     ]
    }
   ],
   "source": [
    "print(\"Test 1 : \",fib(7))\n",
    "print(\"Test 2 : \",fib(1))"
   ]
  },
  {
   "cell_type": "markdown",
   "metadata": {},
   "source": [
    "## Problem 2: Find Longest Common SubSequence in two strings.\n",
    "\n",
    "    Given two strings find the longest common subsequence exisiting between\n",
    "    those strings.\n",
    "\n",
    "    Example:\n",
    "\n",
    "        LCS for input Sequences “ABCDGH” and “AEDFHR” is “ADH” of length 3.\n",
    "\n",
    "        LCS for input Sequences “AGGTAB” and “GXTXAYB” is “GTAB” of length 4.\n",
    "\n",
    "    Command/Script to Run Problem 2: ________________ (Fill this in when submitting)"
   ]
  },
  {
   "cell_type": "code",
   "execution_count": 91,
   "metadata": {},
   "outputs": [],
   "source": [
    "def subsequence(string1,string2):\n",
    "    substring=''\n",
    "    for i in string1:\n",
    "        if i in string2:\n",
    "            substring+=i\n",
    "    return substring,len(substring)\n",
    "\n",
    "        "
   ]
  },
  {
   "cell_type": "code",
   "execution_count": 92,
   "metadata": {},
   "outputs": [
    {
     "name": "stdout",
     "output_type": "stream",
     "text": [
      "('ADH', 3)\n"
     ]
    },
    {
     "ename": "TypeError",
     "evalue": "subsequence() missing 2 required positional arguments: 'string1' and 'string2'",
     "output_type": "error",
     "traceback": [
      "\u001b[1;31m---------------------------------------------------------------------------\u001b[0m",
      "\u001b[1;31mTypeError\u001b[0m                                 Traceback (most recent call last)",
      "\u001b[1;32m<ipython-input-92-0429acba4ff4>\u001b[0m in \u001b[0;36m<module>\u001b[1;34m\u001b[0m\n\u001b[0;32m      2\u001b[0m \u001b[0ms2\u001b[0m\u001b[1;33m=\u001b[0m\u001b[1;34m'AEDFHR'\u001b[0m\u001b[1;33m\u001b[0m\u001b[1;33m\u001b[0m\u001b[0m\n\u001b[0;32m      3\u001b[0m \u001b[0mprint\u001b[0m\u001b[1;33m(\u001b[0m\u001b[0msubsequence\u001b[0m\u001b[1;33m(\u001b[0m\u001b[0ms1\u001b[0m\u001b[1;33m,\u001b[0m\u001b[0ms2\u001b[0m\u001b[1;33m)\u001b[0m\u001b[1;33m)\u001b[0m\u001b[1;33m\u001b[0m\u001b[1;33m\u001b[0m\u001b[0m\n\u001b[1;32m----> 4\u001b[1;33m \u001b[0mprint\u001b[0m\u001b[1;33m(\u001b[0m\u001b[0msubsequence\u001b[0m\u001b[1;33m(\u001b[0m\u001b[1;33m)\u001b[0m\u001b[1;33m)\u001b[0m\u001b[1;33m\u001b[0m\u001b[1;33m\u001b[0m\u001b[0m\n\u001b[0m",
      "\u001b[1;31mTypeError\u001b[0m: subsequence() missing 2 required positional arguments: 'string1' and 'string2'"
     ]
    }
   ],
   "source": [
    "s1='ABCDGH'\n",
    "s2='AEDFHR'\n",
    "s11\n",
    "print(\"Test 1: \",subsequence(s1,s2))\n",
    "print(subsequence())"
   ]
  }
 ],
 "metadata": {
  "kernelspec": {
   "display_name": "Python 3.7.4 32-bit",
   "language": "python",
   "name": "python37432bitd36c6a90078e485f856bc2560ae48b93"
  },
  "language_info": {
   "codemirror_mode": {
    "name": "ipython",
    "version": 3
   },
   "file_extension": ".py",
   "mimetype": "text/x-python",
   "name": "python",
   "nbconvert_exporter": "python",
   "pygments_lexer": "ipython3",
   "version": "3.7.4"
  }
 },
 "nbformat": 4,
 "nbformat_minor": 4
}
