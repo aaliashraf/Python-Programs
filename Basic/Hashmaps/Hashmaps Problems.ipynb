{
 "cells": [
  {
   "cell_type": "markdown",
   "metadata": {},
   "source": [
    "# Hashmaps Problems"
   ]
  },
  {
   "cell_type": "markdown",
   "metadata": {},
   "source": [
    "## Problem 1: Shared SubStrings between Two Strings\n",
    "\n",
    "    Given two strings return a boolean indicating that the two\n",
    "    strings share a substring between each other.\n",
    "\n",
    "    Example:\n",
    "\n",
    "        'abcd' and 'cde' returns 1;\n",
    "        'abc' and 'xyz' returns 0;\n",
    "\n",
    "        Function Description\n",
    "\n",
    "        Complete the function shareSubString with following details:\n",
    "\n",
    "        shareSubString has the following parameter(s):\n",
    "        string a: first string\n",
    "        string b: second string\n",
    "\n",
    "        Returns\n",
    "        bool: 1 or 0\n",
    "\n",
    "\n",
    "    Command/Script to Run Problem 1: ________________ (Fill this in when submitting)"
   ]
  },
  {
   "cell_type": "code",
   "execution_count": 70,
   "metadata": {},
   "outputs": [],
   "source": [
    "def shareSub(s1,s2):\n",
    "    sub=[]\n",
    "    flag=0\n",
    "    for i in range(len(s2)):\n",
    "        sub.append(s2[i:])\n",
    "        sub.append(s2[:i])\n",
    "    substr=[e for e in sub if len(e)>1]\n",
    "    for j in substr:\n",
    "        if j in s1:\n",
    "            flag=1\n",
    "    if flag:\n",
    "        return 1\n",
    "    else:\n",
    "        return 0\n",
    "    "
   ]
  },
  {
   "cell_type": "code",
   "execution_count": 75,
   "metadata": {},
   "outputs": [
    {
     "name": "stdout",
     "output_type": "stream",
     "text": [
      "Test 1 for  'abcd' and 'cde' returns :: 1\n",
      "Test 2 for 'abc' and 'xyz' returns :: 0\n"
     ]
    }
   ],
   "source": [
    "a='abcd' \n",
    "b='cde'\n",
    "c='abc' \n",
    "d='xyz'\n",
    "print(\"Test 1 for  'abcd' and 'cde' returns ::\",shareSub(a,b))\n",
    "print(\"Test 2 for 'abc' and 'xyz' returns ::\",shareSub(c,d))"
   ]
  },
  {
   "cell_type": "markdown",
   "metadata": {},
   "source": [
    "## Problem 2: Comparsion Of Two Maps\n",
    "\n",
    "    Given two maps return a boolean indicating the equailty of two maps.\n",
    "\n",
    "    Note: the order of the keys do not matter\n",
    "\n",
    "    Example:\n",
    "\n",
    "        Hashmap x  = {a:1,b:2,c:3}, Hashmap b={c:3,b:2,a:1} returns 1;\n",
    "\n",
    "        Hashmap x'  = {a:1,b:2,d:3}, Hashmap b={x:3,c:2,a:1} returns 0;\n",
    "\n",
    "    Questions:\n",
    "\n",
    "        Can we use this method to return how many elements match between two maps?\n",
    "\n",
    "\n",
    "    Command/Script to Run Problem 2: ________________ (Fill this in when submitting)"
   ]
  },
  {
   "cell_type": "code",
   "execution_count": 114,
   "metadata": {},
   "outputs": [],
   "source": [
    "def hashMap(arr1,arr2):\n",
    "    arr1_sort=sorted(arr1.items())\n",
    "    arr2_sort=sorted(arr2.items())\n",
    "    result=all([i==j  for i,j in zip(arr1_sort,arr2_sort)])\n",
    "    return result\n",
    "        "
   ]
  },
  {
   "cell_type": "code",
   "execution_count": 116,
   "metadata": {},
   "outputs": [
    {
     "name": "stdout",
     "output_type": "stream",
     "text": [
      "Test 1 for Hashmap x  = {a:1,b:2,c:3}, Hashmap b={c:3,b:2,a:1} : False\n",
      "Test 2 for Hashmap x'  = {a:1,b:2,d:3}, Hashmap b={x:3,c:2,a:1} :  False\n"
     ]
    }
   ],
   "source": [
    "x= {\"a\":1,\"b\":2,\"c\":3}\n",
    "b= {\"c\":3,\"b\":2,\"a\":1}\n",
    "y= {\"a\":1,\"b\":2,\"d\":3}\n",
    "d={\"x\":3,\"c\":2,\"a\":1}\n",
    "print(\"Test 1 for Hashmap x  = {a:1,b:2,c:3}, Hashmap b={c:3,b:2,a:1} :\",hashMap(,d))\n",
    "print(\"Test 2 for Hashmap x'  = {a:1,b:2,d:3}, Hashmap b={x:3,c:2,a:1} : \",hashMap(y,d))"
   ]
  }
 ],
 "metadata": {
  "kernelspec": {
   "display_name": "Python 3.7.4 32-bit",
   "language": "python",
   "name": "python37432bitd36c6a90078e485f856bc2560ae48b93"
  },
  "language_info": {
   "codemirror_mode": {
    "name": "ipython",
    "version": 3
   },
   "file_extension": ".py",
   "mimetype": "text/x-python",
   "name": "python",
   "nbconvert_exporter": "python",
   "pygments_lexer": "ipython3",
   "version": "3.7.4"
  }
 },
 "nbformat": 4,
 "nbformat_minor": 4
}
