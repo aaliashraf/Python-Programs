{
 "cells": [
  {
   "cell_type": "markdown",
   "metadata": {},
   "source": [
    "# Array Problems"
   ]
  },
  {
   "cell_type": "markdown",
   "metadata": {},
   "source": [
    "## Problem 1: Left Rotation\n",
    "\n",
    "    Given an array of elements and number of positions k to rotate, \n",
    "    rotate the array k positions shifted to the left direction.\n",
    "\n",
    "    Example:\n",
    "        A left rotation operation on an array shifts each of the array's elements\n",
    "        1 unit to the left. For example, if 2 left rotations are performed on array\n",
    "        [1,2,3,4,5] then the array would become [3,4,5,1,2]. Note that the lowest \n",
    "        index item moves to the highest index in a rotation. \n",
    "        This is called a circular array.\n",
    "\n",
    "        Function Description\n",
    "\n",
    "        Complete the function rotLeft with following details:\n",
    "\n",
    "        rotLeft has the following parameter(s):\n",
    "        int a[n]: the array to rotate\n",
    "        int d: the number of rotations\n",
    "\n",
    "        Returns\n",
    "        int a'[n]: the rotated array\n",
    "\n",
    "\n",
    "    Command/Script to Run Problem 1: ________________ (Fill this in when submitting)"
   ]
  },
  {
   "cell_type": "code",
   "execution_count": 14,
   "metadata": {},
   "outputs": [],
   "source": [
    "def leftRotate(arr,k):\n",
    "    return arr[k:]+arr[:k]\n",
    "    "
   ]
  },
  {
   "cell_type": "code",
   "execution_count": 16,
   "metadata": {},
   "outputs": [
    {
     "name": "stdout",
     "output_type": "stream",
     "text": [
      "Test 1 : [3, 4, 5, 1, 2]\n",
      "Test 2 : [2, 1, 8, 3, 2, -1, 0, 21, 898]\n"
     ]
    }
   ],
   "source": [
    "arr1= [1,2,3,4,5] \n",
    "k1=2\n",
    "arr2=[2,-1,0,21,898,2,1,8,3]\n",
    "k2=5\n",
    "print(\"Test 1 :\",leftRotate(arr1,k1))\n",
    "print(\"Test 2 :\",leftRotate(arr2,k2))"
   ]
  },
  {
   "cell_type": "markdown",
   "metadata": {},
   "source": [
    "## Problem 2: Array Reversal\n",
    "\n",
    "    Given an array of n elements return the elements of that array in reverse order.\n",
    "\n",
    "    Example:\n",
    "\n",
    "        Input Array : [1,2,3,4,5]\n",
    "\n",
    "        Output Array: [5,4,3,2,1]\n",
    "\n",
    "    Questions:\n",
    "\n",
    "        a. Can we use the rotLeft function written above to achieve this?\n",
    "\n",
    "        b. What will be the complexity of the program in terms of time if we\n",
    "        solve it using rotLeft function?\n",
    "\n",
    "\n",
    "    Command/Script to Run Problem 1: ________________ (Fill this in when submitting)\n"
   ]
  },
  {
   "cell_type": "code",
   "execution_count": 24,
   "metadata": {},
   "outputs": [],
   "source": [
    "def reverseArray(lists):\n",
    "    reverse=[]\n",
    "    for i in range(len(lists)-1,-1,-1):\n",
    "        reverse.append(lists[i])\n",
    "    return reverse"
   ]
  },
  {
   "cell_type": "code",
   "execution_count": 31,
   "metadata": {},
   "outputs": [],
   "source": [
    "## Q(a) leftRotate function is used here to achieve reverse array\n",
    "## Q(b) with linear time complexity O(n)\n",
    "def reverseArrayQa(lists):\n",
    "    length=len(lists)\n",
    "    rev=leftRotate(lists,length)\n",
    "    return rev[::-1]"
   ]
  },
  {
   "cell_type": "code",
   "execution_count": 35,
   "metadata": {},
   "outputs": [
    {
     "name": "stdout",
     "output_type": "stream",
     "text": [
      "Test 1: Input [1,2,3,4,5]  [5, 4, 3, 2, 1]\n",
      "Test 1:  Question  [1,2,3,4,5]  [5, 4, 3, 2, 1]\n",
      "Test 2: [8,7,3,0,-1,2]  [2, -1, 0, 3, 7, 8]\n",
      "Test 2: Question  [8,7,3,0,-1,2]  [2, -1, 0, 3, 7, 8]\n",
      "Test 3: ['n','a','o','p']  ['p', 'o', 'a', 'n']\n",
      "Test 3: Question ['n','a','o','p']  ['p', 'o', 'a', 'n']\n"
     ]
    }
   ],
   "source": [
    "a1=[1,2,3,4,5]\n",
    "a2=[8,7,3,0,-1,2]\n",
    "a3=['n','a','o','p']\n",
    "print(\"Test 1: Input [1,2,3,4,5] \",reverseArray(a1))\n",
    "print(\"Test 1:  Question  [1,2,3,4,5] \",reverseArrayQa(a1))\n",
    "print(\"Test 2: [8,7,3,0,-1,2] \",reverseArray(a2))\n",
    "print(\"Test 2: Question  [8,7,3,0,-1,2] \",reverseArrayQa(a2))\n",
    "print(\"Test 3: ['n','a','o','p'] \",reverseArray(a3))\n",
    "print(\"Test 3: Question ['n','a','o','p'] \",reverseArrayQa(a3))"
   ]
  }
 ],
 "metadata": {
  "kernelspec": {
   "display_name": "Python 3.7.4 32-bit",
   "language": "python",
   "name": "python37432bitd36c6a90078e485f856bc2560ae48b93"
  },
  "language_info": {
   "codemirror_mode": {
    "name": "ipython",
    "version": 3
   },
   "file_extension": ".py",
   "mimetype": "text/x-python",
   "name": "python",
   "nbconvert_exporter": "python",
   "pygments_lexer": "ipython3",
   "version": "3.7.4"
  }
 },
 "nbformat": 4,
 "nbformat_minor": 4
}
