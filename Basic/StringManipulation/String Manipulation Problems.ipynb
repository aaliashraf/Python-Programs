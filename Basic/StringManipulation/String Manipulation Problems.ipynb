{
 "cells": [
  {
   "cell_type": "markdown",
   "metadata": {},
   "source": [
    "# String Manipulation Problems"
   ]
  },
  {
   "cell_type": "markdown",
   "metadata": {},
   "source": [
    "Problem 2: Remove a character from the entire string.\n",
    "\n",
    "    Given a string and a charcter remove that character from entire string.\n",
    "\n",
    "    Example:\n",
    "\n",
    "        string name = 'We Are Your Technology Partners' and char x = ' '\n",
    "        returns 'WeAreYourTechnologyPartners'\n",
    "\n",
    "    Questions:\n",
    "       Can we use the Tree data structure or hashing to optimize this?\n",
    "\n"
   ]
  },
  {
   "cell_type": "code",
   "execution_count": 11,
   "metadata": {},
   "outputs": [],
   "source": [
    "def removeChar(string,char):\n",
    "    result=''\n",
    "    for i in string:\n",
    "        if i==char:\n",
    "            continue\n",
    "        else:\n",
    "            result+=i\n",
    "    return result\n",
    "# Question can we use the Tree data structure or hashing to optimize\n",
    "# Ans: in any other cases the time complexity is not less than O(n) "
   ]
  },
  {
   "cell_type": "code",
   "execution_count": 13,
   "metadata": {},
   "outputs": [
    {
     "name": "stdout",
     "output_type": "stream",
     "text": [
      "Test 1 : WeAreYourTechnologyPartners\n",
      "Test 2 : We Are Yur Technlgy Partners\n"
     ]
    }
   ],
   "source": [
    "s1= 'We Are Your Technology Partners'\n",
    "c1=' '\n",
    "c2='o'\n",
    "print(\"Test 1 :\",removeChar(s1,c1))\n",
    "print(\"Test 2 :\",removeChar(s1,c2))"
   ]
  }
 ],
 "metadata": {
  "kernelspec": {
   "display_name": "Python 3.7.4 32-bit",
   "language": "python",
   "name": "python37432bitd36c6a90078e485f856bc2560ae48b93"
  },
  "language_info": {
   "codemirror_mode": {
    "name": "ipython",
    "version": 3
   },
   "file_extension": ".py",
   "mimetype": "text/x-python",
   "name": "python",
   "nbconvert_exporter": "python",
   "pygments_lexer": "ipython3",
   "version": "3.7.4"
  }
 },
 "nbformat": 4,
 "nbformat_minor": 4
}
