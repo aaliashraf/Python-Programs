{
 "cells": [
  {
   "cell_type": "markdown",
   "metadata": {},
   "source": [
    "# Sorting Problems"
   ]
  },
  {
   "cell_type": "markdown",
   "metadata": {},
   "source": [
    "## Problem 1: Distribute An Array of Numbers around a given pivot\n",
    "\n",
    "    Given an Array of integers and pivot integer return an array\n",
    "    that ditributes the array around that pivot in a sorted order.\n",
    "\n",
    "    Example:\n",
    "\n",
    "        For An Array\n",
    "        [1,-1,-2,2,-3,3,0] the sorted array would be\n",
    "        [-3,-2,-1,0,1,2,3] for pivot 0;\n",
    "\n",
    "        Function Description\n",
    "\n",
    "        Complete the function DistributeArray with following details:\n",
    "\n",
    "        DistributeArray has the following parameter(s):\n",
    "            int[n] a: Array of integers\n",
    "            int b: pivot\n",
    "\n",
    "        Returns\n",
    "            int[n] a'\n",
    "\n",
    "        Questions:\n",
    "            How do we find the pivot in the array containing even number of elements?\n"
   ]
  },
  {
   "cell_type": "code",
   "execution_count": 21,
   "metadata": {},
   "outputs": [],
   "source": [
    "def distributeArray(arr,piv):\n",
    "    L=[]\n",
    "    R=[]\n",
    "    P=[]\n",
    "    P.append(piv)\n",
    "    for i in arr:\n",
    "        if i<piv:\n",
    "            L.append(i)\n",
    "        elif i>piv:\n",
    "            R.append(i)\n",
    "    return L+P+R\n",
    "    \n",
    "## Question how to find Pivot in array of even length\n",
    "def findPivot(arrays):\n",
    "    arrays.sort()\n",
    "    index=len(arrays)//2\n",
    "    pivot=arrays[index]\n",
    "    return pivot\n",
    "    \n",
    "        \n",
    "    \n"
   ]
  },
  {
   "cell_type": "code",
   "execution_count": 23,
   "metadata": {},
   "outputs": [
    {
     "name": "stdout",
     "output_type": "stream",
     "text": [
      "Test 1 Pivot at 0:  [-1, -2, -3, 0, 1, 2, 3]\n",
      "Test 2 Pivot at 2:  [-3, -6, -1, 2, 4, 5, 7]\n",
      "Test 1 Find Pivot:  0\n",
      "Test 2 Find Pivot:  2\n"
     ]
    }
   ],
   "source": [
    "arr1=[1,-1,-2,2,-3,3,0]\n",
    "p1=0\n",
    "print(\"Test 1 Pivot at 0: \",distributeArray(arr1,p1))\n",
    "arr2=[4,-3,-6,2,5,-1,7]\n",
    "p2=2\n",
    "print(\"Test 2 Pivot at 2: \",distributeArray(arr2,p2))\n",
    "## Question a\n",
    "print(\"Test 1 Find Pivot: \",findPivot(arr1))\n",
    "print(\"Test 2 Find Pivot: \",findPivot(arr2))\n"
   ]
  },
  {
   "cell_type": "markdown",
   "metadata": {},
   "source": [
    "## Problem 2: Find maximum number from a list of numbers (both negative and non-negative).\n",
    "\n",
    "    Given an array of positive and negative integers write a\n",
    "    sorting algorithm to return the maximum value.\n",
    "\n",
    "    Note: Smart Choice of sorting algorithm is important.\n",
    "\n",
    "    Example:\n",
    "\n",
    "        int[] arr  = [-1,1,-2,2,-3,3,0] returns 3;\n",
    "\n",
    "        int[] arr'  = [1,2,3,4,5,0] returns 5;\n",
    "\n",
    "    Questions:\n",
    "\n",
    "       Can we use the method DistributiveArray written above to achieve this?"
   ]
  },
  {
   "cell_type": "code",
   "execution_count": 30,
   "metadata": {},
   "outputs": [],
   "source": [
    "def maxNo(lists):\n",
    "    max=0\n",
    "    for i in lists:\n",
    "        if i>max:\n",
    "            max=i\n",
    "    return max\n",
    "# Question \n",
    "# Ans: distributeArray function be used for returing maximum no as in sorted distributeArray last element is the greater of all"
   ]
  },
  {
   "cell_type": "code",
   "execution_count": 31,
   "metadata": {},
   "outputs": [
    {
     "name": "stdout",
     "output_type": "stream",
     "text": [
      "Test 1 : 3\n",
      "Test 2 : 5\n"
     ]
    }
   ],
   "source": [
    "arr1  = [-1,1,-2,2,-3,3,0]\n",
    "arr2=[1,2,3,4,5,0]\n",
    "print(\"Test 1 :\" ,maxNo(arr1))\n",
    "print(\"Test 2 :\" ,maxNo(arr2))"
   ]
  }
 ],
 "metadata": {
  "kernelspec": {
   "display_name": "Python 3.7.4 32-bit",
   "language": "python",
   "name": "python37432bitd36c6a90078e485f856bc2560ae48b93"
  },
  "language_info": {
   "codemirror_mode": {
    "name": "ipython",
    "version": 3
   },
   "file_extension": ".py",
   "mimetype": "text/x-python",
   "name": "python",
   "nbconvert_exporter": "python",
   "pygments_lexer": "ipython3",
   "version": "3.7.4"
  }
 },
 "nbformat": 4,
 "nbformat_minor": 4
}
